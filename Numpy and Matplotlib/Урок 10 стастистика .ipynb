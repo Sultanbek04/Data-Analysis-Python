{
 "cells": [
  {
   "cell_type": "markdown",
   "id": "6b40a397",
   "metadata": {},
   "source": [
    "### Описательные функции"
   ]
  },
  {
   "cell_type": "code",
   "execution_count": 1,
   "id": "e1299444",
   "metadata": {},
   "outputs": [
    {
     "name": "stdout",
     "output_type": "stream",
     "text": [
      "[13 12  9 14 11  7 14 11 11]\n",
      "11.33\n",
      "11.333333333333334\n"
     ]
    }
   ],
   "source": [
    "import numpy as np\n",
    "\n",
    "x = np.array([np.random.randint(5,15) for i in range(9)])\n",
    "print(x)\n",
    "\n",
    "# среднее\n",
    "print(np.round(x.mean(), 2))\n",
    "\n",
    "print(np.mean(x))"
   ]
  },
  {
   "cell_type": "code",
   "execution_count": 3,
   "id": "d96f612e",
   "metadata": {},
   "outputs": [
    {
     "data": {
      "text/plain": [
       "array([13, 12,  9, 14, 11,  7, 14, 11, 11])"
      ]
     },
     "execution_count": 3,
     "metadata": {},
     "output_type": "execute_result"
    }
   ],
   "source": [
    "x\n"
   ]
  },
  {
   "cell_type": "code",
   "execution_count": 4,
   "id": "2898b609",
   "metadata": {},
   "outputs": [
    {
     "data": {
      "text/plain": [
       "[7, 9, 11, 11, 11, 12, 13, 14, 14]"
      ]
     },
     "execution_count": 4,
     "metadata": {},
     "output_type": "execute_result"
    }
   ],
   "source": [
    "sorted(x)"
   ]
  },
  {
   "cell_type": "code",
   "execution_count": 5,
   "id": "479704b2",
   "metadata": {},
   "outputs": [
    {
     "name": "stdout",
     "output_type": "stream",
     "text": [
      "11.0\n"
     ]
    }
   ],
   "source": [
    "# медиана - серединный квантиль\n",
    "print(np.median(x))"
   ]
  },
  {
   "cell_type": "code",
   "execution_count": 6,
   "id": "20a9b922",
   "metadata": {},
   "outputs": [
    {
     "data": {
      "text/plain": [
       "11.0"
      ]
     },
     "execution_count": 6,
     "metadata": {},
     "output_type": "execute_result"
    }
   ],
   "source": [
    "# нижний квантиль\n",
    "np.quantile(x, 0.25)"
   ]
  },
  {
   "cell_type": "code",
   "execution_count": 7,
   "id": "244a77d8",
   "metadata": {},
   "outputs": [
    {
     "data": {
      "text/plain": [
       "11.0"
      ]
     },
     "execution_count": 7,
     "metadata": {},
     "output_type": "execute_result"
    }
   ],
   "source": [
    "# медиана\n",
    "np.quantile(x, 0.5)"
   ]
  },
  {
   "cell_type": "code",
   "execution_count": 8,
   "id": "a20aa73a",
   "metadata": {},
   "outputs": [
    {
     "data": {
      "text/plain": [
       "13.0"
      ]
     },
     "execution_count": 8,
     "metadata": {},
     "output_type": "execute_result"
    }
   ],
   "source": [
    "# верхний квантиль\n",
    "np.quantile(x, 0.75)"
   ]
  },
  {
   "cell_type": "code",
   "execution_count": 9,
   "id": "c45f3bce",
   "metadata": {},
   "outputs": [
    {
     "data": {
      "text/plain": [
       "14"
      ]
     },
     "execution_count": 9,
     "metadata": {},
     "output_type": "execute_result"
    }
   ],
   "source": [
    "# numpy max\n",
    "np.max(x)\n",
    "\n",
    "# python max\n",
    "max(x)"
   ]
  },
  {
   "cell_type": "code",
   "execution_count": 10,
   "id": "43f4eef8",
   "metadata": {},
   "outputs": [
    {
     "data": {
      "text/plain": [
       "7"
      ]
     },
     "execution_count": 10,
     "metadata": {},
     "output_type": "execute_result"
    }
   ],
   "source": [
    "# numpy min\n",
    "np.min(x)\n",
    "\n",
    "# python min\n",
    "min(x)"
   ]
  },
  {
   "cell_type": "code",
   "execution_count": 11,
   "id": "f1c1f96f",
   "metadata": {},
   "outputs": [
    {
     "data": {
      "text/plain": [
       "ModeResult(mode=array([11]), count=array([3]))"
      ]
     },
     "execution_count": 11,
     "metadata": {},
     "output_type": "execute_result"
    }
   ],
   "source": [
    "# мода\n",
    "from scipy import stats\n",
    "\n",
    "stats.mode(x)"
   ]
  },
  {
   "cell_type": "code",
   "execution_count": 12,
   "id": "485e24fc",
   "metadata": {},
   "outputs": [
    {
     "data": {
      "text/plain": [
       "Counter({'a': 5, 'b': 2, 'r': 2, 'c': 1, 'd': 1})"
      ]
     },
     "execution_count": 12,
     "metadata": {},
     "output_type": "execute_result"
    }
   ],
   "source": [
    "# количество символов в тексте\n",
    "myStr = 'abracadabra'\n",
    "\n",
    "from collections import Counter\n",
    "\n",
    "Counter(myStr)"
   ]
  },
  {
   "cell_type": "code",
   "execution_count": 13,
   "id": "15211ad6",
   "metadata": {},
   "outputs": [
    {
     "data": {
      "text/plain": [
       "4.666666666666667"
      ]
     },
     "execution_count": 13,
     "metadata": {},
     "output_type": "execute_result"
    }
   ],
   "source": [
    "# дисперсия\n",
    "np.var(x)"
   ]
  },
  {
   "cell_type": "code",
   "execution_count": 14,
   "id": "4a4b09c0",
   "metadata": {},
   "outputs": [
    {
     "data": {
      "text/plain": [
       "4.666666666666667"
      ]
     },
     "execution_count": 14,
     "metadata": {},
     "output_type": "execute_result"
    }
   ],
   "source": [
    "# находим дисперсию\n",
    "mean = np.mean(x)\n",
    "\n",
    "np.sum(np.square(x - mean)) / len(x)"
   ]
  },
  {
   "cell_type": "code",
   "execution_count": 15,
   "id": "73af06d1",
   "metadata": {},
   "outputs": [
    {
     "data": {
      "text/plain": [
       "array([13, 12,  9, 14, 11,  7, 14, 11, 11])"
      ]
     },
     "execution_count": 15,
     "metadata": {},
     "output_type": "execute_result"
    }
   ],
   "source": [
    "x"
   ]
  },
  {
   "cell_type": "code",
   "execution_count": 16,
   "id": "22c966dd",
   "metadata": {},
   "outputs": [
    {
     "data": {
      "text/plain": [
       "2.160246899469287"
      ]
     },
     "execution_count": 16,
     "metadata": {},
     "output_type": "execute_result"
    }
   ],
   "source": [
    "# стандартное отклонение\n",
    "std = np.std(x)\n",
    "std"
   ]
  },
  {
   "cell_type": "code",
   "execution_count": 17,
   "id": "86a01e1d",
   "metadata": {},
   "outputs": [
    {
     "data": {
      "text/plain": [
       "11.333333333333334"
      ]
     },
     "execution_count": 17,
     "metadata": {},
     "output_type": "execute_result"
    }
   ],
   "source": [
    "mean"
   ]
  },
  {
   "cell_type": "code",
   "execution_count": 18,
   "id": "0c81a2da",
   "metadata": {},
   "outputs": [
    {
     "data": {
      "text/plain": [
       "13.493580232802621"
      ]
     },
     "execution_count": 18,
     "metadata": {},
     "output_type": "execute_result"
    }
   ],
   "source": [
    "mean + std"
   ]
  },
  {
   "cell_type": "code",
   "execution_count": 19,
   "id": "4e2cd1b5",
   "metadata": {},
   "outputs": [
    {
     "data": {
      "text/plain": [
       "9.173086433864047"
      ]
     },
     "execution_count": 19,
     "metadata": {},
     "output_type": "execute_result"
    }
   ],
   "source": [
    "mean - std"
   ]
  },
  {
   "cell_type": "code",
   "execution_count": 20,
   "id": "0686699b",
   "metadata": {},
   "outputs": [
    {
     "data": {
      "text/plain": [
       "array([13, 12,  9, 14, 11,  7, 14, 11, 11])"
      ]
     },
     "execution_count": 20,
     "metadata": {},
     "output_type": "execute_result"
    }
   ],
   "source": [
    "x"
   ]
  },
  {
   "cell_type": "code",
   "execution_count": 22,
   "id": "84356729",
   "metadata": {},
   "outputs": [
    {
     "data": {
      "text/plain": [
       "array([13, 12, 11, 11, 11])"
      ]
     },
     "execution_count": 22,
     "metadata": {},
     "output_type": "execute_result"
    }
   ],
   "source": [
    "x = x[x > 9.17]\n",
    "x[x < 13.49]"
   ]
  },
  {
   "cell_type": "code",
   "execution_count": 23,
   "id": "4c7815f0",
   "metadata": {},
   "outputs": [
    {
     "name": "stdout",
     "output_type": "stream",
     "text": [
      "[16  5  8  9 10]\n"
     ]
    }
   ],
   "source": [
    "# 1. создайте массив из 100 элементов между 1 и 20\n",
    "# 2. найдите среднее и стандартное отклонение\n",
    "\n",
    "# Вопрос: создает ли генератор списков данные в нормальном распределении?\n",
    "data = np.array([np.random.randint(1,20) for i in range(100000)])\n",
    "print(data[:5])"
   ]
  },
  {
   "cell_type": "code",
   "execution_count": 24,
   "id": "d83467a6",
   "metadata": {},
   "outputs": [
    {
     "name": "stdout",
     "output_type": "stream",
     "text": [
      "10.01187 5.479402257828859\n",
      "57935\n"
     ]
    }
   ],
   "source": [
    "data_mean = np.mean(data)\n",
    "data_std = np.std(data)\n",
    "\n",
    "print(data_mean, data_std)\n",
    "\n",
    "a = data[(data > data_mean - data_std) & (data < data_mean + data_std)]\n",
    "print(len(a))"
   ]
  },
  {
   "cell_type": "code",
   "execution_count": 25,
   "id": "473f0882",
   "metadata": {},
   "outputs": [
    {
     "name": "stdout",
     "output_type": "stream",
     "text": [
      "100000\n"
     ]
    }
   ],
   "source": [
    "b = data[(data > data_mean - 2*data_std) & (data < data_mean + 2*data_std)]\n",
    "print(len(b))\n",
    "\n",
    "# Итог: наш генератор списков не создает нормальное распределение"
   ]
  },
  {
   "cell_type": "code",
   "execution_count": 26,
   "id": "1be93719",
   "metadata": {},
   "outputs": [
    {
     "name": "stdout",
     "output_type": "stream",
     "text": [
      "10.298247551998225 5.680785775737951\n"
     ]
    }
   ],
   "source": [
    "# нормальное распределение\n",
    "data = np.random.normal(10, 5.5, 100)\n",
    "data_mean = np.mean(data)\n",
    "data_std = np.std(data)\n",
    "\n",
    "print(data_mean, data_std)"
   ]
  },
  {
   "cell_type": "code",
   "execution_count": 27,
   "id": "a731dcd0",
   "metadata": {},
   "outputs": [
    {
     "name": "stdout",
     "output_type": "stream",
     "text": [
      "68\n"
     ]
    }
   ],
   "source": [
    "a = data[(data > data_mean - data_std) & (data < data_mean + data_std)]\n",
    "print(len(a))"
   ]
  },
  {
   "cell_type": "code",
   "execution_count": 28,
   "id": "2120ba5b",
   "metadata": {},
   "outputs": [
    {
     "name": "stdout",
     "output_type": "stream",
     "text": [
      "95\n"
     ]
    }
   ],
   "source": [
    "b = data[(data > data_mean - 2*data_std) & (data < data_mean + 2*data_std)]\n",
    "print(len(b))"
   ]
  },
  {
   "cell_type": "markdown",
   "id": "607351dc",
   "metadata": {},
   "source": [
    "# Визуализация данных"
   ]
  },
  {
   "cell_type": "code",
   "execution_count": 29,
   "id": "5f7c348a",
   "metadata": {},
   "outputs": [
    {
     "data": {
      "image/png": "[encoded data removed]",
      "text/plain": [
       "<Figure size 432x288 with 1 Axes>"
      ]
     },
     "metadata": {
      "needs_background": "light"
     },
     "output_type": "display_data"
    }
   ],
   "source": [
    "# boxplot\n",
    "import matplotlib.pyplot as plt\n",
    "\n",
    "new_data = [x, a]\n",
    "plt.boxplot(new_data)\n",
    "plt.xlabel('Массивы данных')\n",
    "plt.ylabel('Описательная статистика')\n",
    "plt.title('График ящик с усами')\n",
    "\n",
    "plt.show()"
   ]
  },
  {
   "cell_type": "code",
   "execution_count": 31,
   "id": "c7b33e4e",
   "metadata": {},
   "outputs": [
    {
     "name": "stderr",
     "output_type": "stream",
     "text": [
      "C:\\Users\\77761\\anaconda3\\lib\\site-packages\\seaborn\\_decorators.py:36: FutureWarning: Pass the following variable as a keyword arg: x. From version 0.12, the only valid positional argument will be `data`, and passing other arguments without an explicit keyword will result in an error or misinterpretation.\n",
      "  warnings.warn(\n"
     ]
    },
    {
     "data": {
      "text/plain": [
       "<AxesSubplot:>"
      ]
     },
     "execution_count": 31,
     "metadata": {},
     "output_type": "execute_result"
    },
    {
     "data": {
      "image/png": "[encoded data removed]",
      "text/plain": [
       "<Figure size 432x288 with 1 Axes>"
      ]
     },
     "metadata": {
      "needs_background": "light"
     },
     "output_type": "display_data"
    }
   ],
   "source": [
    "# violinplot\n",
    "import seaborn as sns\n",
    "\n",
    "sns.violinplot(data)\n"
   ]
  },
  {
   "cell_type": "code",
   "execution_count": 32,
   "id": "bda2e85a",
   "metadata": {},
   "outputs": [
    {
     "name": "stderr",
     "output_type": "stream",
     "text": [
      "C:\\Users\\77761\\anaconda3\\lib\\site-packages\\seaborn\\_decorators.py:36: FutureWarning: Pass the following variable as a keyword arg: x. From version 0.12, the only valid positional argument will be `data`, and passing other arguments without an explicit keyword will result in an error or misinterpretation.\n",
      "  warnings.warn(\n"
     ]
    },
    {
     "data": {
      "text/plain": [
       "<AxesSubplot:xlabel='age'>"
      ]
     },
     "execution_count": 32,
     "metadata": {},
     "output_type": "execute_result"
    },
    {
     "data": {
      "image/png": "[encoded data removed]",
      "text/plain": [
       "<Figure size 432x288 with 1 Axes>"
      ]
     },
     "metadata": {
      "needs_background": "light"
     },
     "output_type": "display_data"
    }
   ],
   "source": [
    "# загрузка готовых данных\n",
    "df = sns.load_dataset(\"titanic\")\n",
    "\n",
    "sns.violinplot(df[\"age\"])"
   ]
  },
  {
   "cell_type": "code",
   "execution_count": 37,
   "id": "3e28b143",
   "metadata": {},
   "outputs": [],
   "source": [
    " #Дз\n",
    "data= [12, 12, 9, 12, 11, 10, 12, 9, 6, 12, 11, 10, 2, 12]"
   ]
  },
  {
   "cell_type": "code",
   "execution_count": 50,
   "id": "9aee2d9d",
   "metadata": {},
   "outputs": [
    {
     "data": {
      "image/png": "[encoded data removed]",
      "text/plain": [
       "<Figure size 432x288 with 1 Axes>"
      ]
     },
     "metadata": {
      "needs_background": "light"
     },
     "output_type": "display_data"
    },
    {
     "name": "stdout",
     "output_type": "stream",
     "text": [
      "10.298247551998225 5.680785775737951\n",
      "68\n",
      "95\n"
     ]
    }
   ],
   "source": [
    "plt.boxplot(data)\n",
    "plt.title('График оценок студента')\n",
    "plt.show()\n",
    "\n",
    "# оцена 2 является выбросом \n",
    "\n",
    "# нижний квантиль\n",
    "np.quantile(data, 0.25)\n",
    "# нижний квантиль\n",
    "np.quantile(data, 0.50)\n",
    "# нижний квантиль\n",
    "np.quantile(data, 0.75)\n",
    "\n",
    "data_mean = np.mean(data)\n",
    "data_std = np.std(data)\n",
    "\n",
    "print(data_mean, data_std)\n",
    "\n",
    "a = data[(data > data_mean - data_std) & (data < data_mean + data_std)]\n",
    "print(len(a))\n",
    "\n",
    "b = data[(data > data_mean - 2*data_std) & (data < data_mean + 2*data_std)]\n",
    "print(len(b))\n",
    "\n",
    "#Данные распределены нормально "
   ]
  },
  {
   "cell_type": "code",
   "execution_count": null,
   "id": "658555d6",
   "metadata": {},
   "outputs": [],
   "source": []
  },
  {
   "cell_type": "code",
   "execution_count": null,
   "id": "ac212cfc",
   "metadata": {},
   "outputs": [],
   "source": []
  },
  {
   "cell_type": "code",
   "execution_count": null,
   "id": "3a3e4efc",
   "metadata": {},
   "outputs": [],
   "source": []
  },
  {
   "cell_type": "code",
   "execution_count": null,
   "id": "e7fc56e6",
   "metadata": {},
   "outputs": [],
   "source": []
  },
  {
   "cell_type": "code",
   "execution_count": null,
   "id": "c1072fe5",
   "metadata": {},
   "outputs": [],
   "source": []
  },
  {
   "cell_type": "code",
   "execution_count": null,
   "id": "3c6c08bf",
   "metadata": {},
   "outputs": [],
   "source": []
  },
  {
   "cell_type": "code",
   "execution_count": null,
   "id": "850dd63b",
   "metadata": {},
   "outputs": [],
   "source": []
  },
  {
   "cell_type": "code",
   "execution_count": null,
   "id": "3ac6052a",
   "metadata": {},
   "outputs": [],
   "source": []
  },
  {
   "cell_type": "code",
   "execution_count": null,
   "id": "a16aeaab",
   "metadata": {},
   "outputs": [],
   "source": []
  },
  {
   "cell_type": "code",
   "execution_count": null,
   "id": "c0cd6302",
   "metadata": {},
   "outputs": [],
   "source": []
  },
  {
   "cell_type": "code",
   "execution_count": null,
   "id": "99e949d3",
   "metadata": {},
   "outputs": [],
   "source": []
  }
 ],
 "metadata": {
  "kernelspec": {
   "display_name": "Python 3 (ipykernel)",
   "language": "python",
   "name": "python3"
  },
  "language_info": {
   "codemirror_mode": {
    "name": "ipython",
    "version": 3
   },
   "file_extension": ".py",
   "mimetype": "text/x-python",
   "name": "python",
   "nbconvert_exporter": "python",
   "pygments_lexer": "ipython3",
   "version": "3.9.7"
  }
 },
 "nbformat": 4,
 "nbformat_minor": 5
}
