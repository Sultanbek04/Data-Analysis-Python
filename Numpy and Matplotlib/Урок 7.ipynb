{
 "cells": [
  {
   "cell_type": "markdown",
   "id": "a8db39e7",
   "metadata": {},
   "source": [
    "### Начало работы "
   ]
  },
  {
   "cell_type": "code",
   "execution_count": 1,
   "id": "7115f2e0",
   "metadata": {},
   "outputs": [
    {
     "name": "stdout",
     "output_type": "stream",
     "text": [
      "3\n"
     ]
    }
   ],
   "source": [
    "import numpy as np\n",
    "a = np.array(3)\n",
    "print(a)"
   ]
  },
  {
   "cell_type": "code",
   "execution_count": 2,
   "id": "cc9abce9",
   "metadata": {},
   "outputs": [
    {
     "data": {
      "text/plain": [
       "numpy.ndarray"
      ]
     },
     "execution_count": 2,
     "metadata": {},
     "output_type": "execute_result"
    }
   ],
   "source": [
    "type(a)"
   ]
  },
  {
   "cell_type": "code",
   "execution_count": 3,
   "id": "bd0824bd",
   "metadata": {},
   "outputs": [
    {
     "data": {
      "text/plain": [
       "0"
      ]
     },
     "execution_count": 3,
     "metadata": {},
     "output_type": "execute_result"
    }
   ],
   "source": [
    "a.ndim\n",
    "# 0 мерный список\n"
   ]
  },
  {
   "cell_type": "code",
   "execution_count": 4,
   "id": "b686d645",
   "metadata": {},
   "outputs": [
    {
     "name": "stdout",
     "output_type": "stream",
     "text": [
      "[3]\n",
      "1\n"
     ]
    }
   ],
   "source": [
    "b = np.array([3])\n",
    "print(b)\n",
    "print(b.ndim)"
   ]
  },
  {
   "cell_type": "code",
   "execution_count": 5,
   "id": "1f35567b",
   "metadata": {},
   "outputs": [
    {
     "name": "stdout",
     "output_type": "stream",
     "text": [
      "[[3]]\n",
      "2\n"
     ]
    }
   ],
   "source": [
    "c = np.array([[3]])\n",
    "print(c)\n",
    "print(c.ndim)\n"
   ]
  },
  {
   "cell_type": "code",
   "execution_count": 6,
   "id": "0a42ea7c",
   "metadata": {},
   "outputs": [
    {
     "data": {
      "text/plain": [
       "3"
      ]
     },
     "execution_count": 6,
     "metadata": {},
     "output_type": "execute_result"
    }
   ],
   "source": [
    "c[0][0]\n"
   ]
  },
  {
   "cell_type": "markdown",
   "id": "2ba6b4f5",
   "metadata": {},
   "source": [
    "### Индексирование "
   ]
  },
  {
   "cell_type": "code",
   "execution_count": 7,
   "id": "fe5dfd1e",
   "metadata": {},
   "outputs": [
    {
     "name": "stdout",
     "output_type": "stream",
     "text": [
      "[[[1 9]\n",
      "  [2 3]]\n",
      "\n",
      " [[4 5]\n",
      "  [6 7]]]\n",
      "3\n"
     ]
    }
   ],
   "source": [
    "d = np.array([[[1,9], [2,3]], [[4,5],[6,7]]])\n",
    "print(d)\n",
    "print(d.ndim)"
   ]
  },
  {
   "cell_type": "code",
   "execution_count": 11,
   "id": "d1515806",
   "metadata": {},
   "outputs": [
    {
     "data": {
      "text/plain": [
       "3"
      ]
     },
     "execution_count": 11,
     "metadata": {},
     "output_type": "execute_result"
    }
   ],
   "source": [
    "d[0, 1, 1]"
   ]
  },
  {
   "cell_type": "code",
   "execution_count": 12,
   "id": "6449ea53",
   "metadata": {
    "scrolled": true
   },
   "outputs": [
    {
     "data": {
      "text/plain": [
       "3"
      ]
     },
     "execution_count": 12,
     "metadata": {},
     "output_type": "execute_result"
    }
   ],
   "source": [
    "d[0, 1, 1]"
   ]
  },
  {
   "cell_type": "code",
   "execution_count": 13,
   "id": "fff249a2",
   "metadata": {},
   "outputs": [
    {
     "data": {
      "text/plain": [
       "5"
      ]
     },
     "execution_count": 13,
     "metadata": {},
     "output_type": "execute_result"
    }
   ],
   "source": [
    "d[1, 0, 1]\n"
   ]
  },
  {
   "cell_type": "code",
   "execution_count": 14,
   "id": "ce56daa2",
   "metadata": {},
   "outputs": [
    {
     "data": {
      "text/plain": [
       "6"
      ]
     },
     "execution_count": 14,
     "metadata": {},
     "output_type": "execute_result"
    }
   ],
   "source": [
    "d[-1, -1, 0]\n"
   ]
  },
  {
   "cell_type": "markdown",
   "id": "49a15399",
   "metadata": {},
   "source": [
    "### Слайсы"
   ]
  },
  {
   "cell_type": "code",
   "execution_count": 15,
   "id": "7ff8d2d4",
   "metadata": {},
   "outputs": [
    {
     "data": {
      "text/plain": [
       "array([[[1, 9],\n",
       "        [2, 3]],\n",
       "\n",
       "       [[4, 5],\n",
       "        [6, 7]]])"
      ]
     },
     "execution_count": 15,
     "metadata": {},
     "output_type": "execute_result"
    }
   ],
   "source": [
    "d\n",
    "\n"
   ]
  },
  {
   "cell_type": "code",
   "execution_count": 16,
   "id": "18dad22a",
   "metadata": {},
   "outputs": [
    {
     "data": {
      "text/plain": [
       "array([1, 9])"
      ]
     },
     "execution_count": 16,
     "metadata": {},
     "output_type": "execute_result"
    }
   ],
   "source": [
    "d[0, 0]\n"
   ]
  },
  {
   "cell_type": "code",
   "execution_count": 17,
   "id": "69ee2fc8",
   "metadata": {},
   "outputs": [
    {
     "data": {
      "text/plain": [
       "array([[[1, 9]]])"
      ]
     },
     "execution_count": 17,
     "metadata": {},
     "output_type": "execute_result"
    }
   ],
   "source": [
    "d[:1, :1, :]\n"
   ]
  },
  {
   "cell_type": "code",
   "execution_count": 18,
   "id": "6b13402e",
   "metadata": {},
   "outputs": [
    {
     "data": {
      "text/plain": [
       "array([[[5],\n",
       "        [7]]])"
      ]
     },
     "execution_count": 18,
     "metadata": {},
     "output_type": "execute_result"
    }
   ],
   "source": [
    "d[1:, :, 1:]"
   ]
  },
  {
   "cell_type": "code",
   "execution_count": 19,
   "id": "aadf239d",
   "metadata": {},
   "outputs": [
    {
     "data": {
      "text/plain": [
       "array([[[9],\n",
       "        [3]],\n",
       "\n",
       "       [[5],\n",
       "        [7]]])"
      ]
     },
     "execution_count": 19,
     "metadata": {},
     "output_type": "execute_result"
    }
   ],
   "source": [
    "d[:, :, 1:]\n"
   ]
  },
  {
   "cell_type": "markdown",
   "id": "81cbc007",
   "metadata": {},
   "source": [
    "### Агрегирование"
   ]
  },
  {
   "cell_type": "code",
   "execution_count": 20,
   "id": "35dc1ffc",
   "metadata": {},
   "outputs": [
    {
     "data": {
      "text/plain": [
       "array([[[1, 9],\n",
       "        [2, 3]],\n",
       "\n",
       "       [[4, 5],\n",
       "        [6, 7]]])"
      ]
     },
     "execution_count": 20,
     "metadata": {},
     "output_type": "execute_result"
    }
   ],
   "source": [
    "d"
   ]
  },
  {
   "cell_type": "code",
   "execution_count": 21,
   "id": "d7fa9041",
   "metadata": {},
   "outputs": [
    {
     "data": {
      "text/plain": [
       "9"
      ]
     },
     "execution_count": 21,
     "metadata": {},
     "output_type": "execute_result"
    }
   ],
   "source": [
    "# списки NumPy\n",
    "d.max()\n"
   ]
  },
  {
   "cell_type": "code",
   "execution_count": 22,
   "id": "3489c9da",
   "metadata": {},
   "outputs": [
    {
     "data": {
      "text/plain": [
       "37"
      ]
     },
     "execution_count": 22,
     "metadata": {},
     "output_type": "execute_result"
    }
   ],
   "source": [
    "d.sum()\n",
    "\n"
   ]
  },
  {
   "cell_type": "code",
   "execution_count": 23,
   "id": "40e3c0be",
   "metadata": {},
   "outputs": [
    {
     "data": {
      "text/plain": [
       "8"
      ]
     },
     "execution_count": 23,
     "metadata": {},
     "output_type": "execute_result"
    }
   ],
   "source": [
    "d.size\n"
   ]
  },
  {
   "cell_type": "code",
   "execution_count": 24,
   "id": "e3153398",
   "metadata": {},
   "outputs": [
    {
     "data": {
      "text/plain": [
       "4.625"
      ]
     },
     "execution_count": 24,
     "metadata": {},
     "output_type": "execute_result"
    }
   ],
   "source": [
    "# среднее чисел в массиве d\n",
    "d.mean()\n"
   ]
  },
  {
   "cell_type": "markdown",
   "id": "0b79792f",
   "metadata": {},
   "source": [
    "### Криптография"
   ]
  },
  {
   "cell_type": "code",
   "execution_count": 25,
   "id": "9468880f",
   "metadata": {},
   "outputs": [],
   "source": [
    "message = 'I AM HERE'\n",
    "message_num = '9 27 1 13 27 8 5 18 5'\n",
    "a1 = np.array([9, 27, 1])\n",
    "a2 = np.array([13, 27, 8])\n",
    "a3 = np.array([5, 18, 5])"
   ]
  },
  {
   "cell_type": "code",
   "execution_count": 26,
   "id": "48e189f7",
   "metadata": {},
   "outputs": [
    {
     "name": "stdout",
     "output_type": "stream",
     "text": [
      "[[1 1 0]\n",
      " [2 0 1]\n",
      " [1 0 0]]\n"
     ]
    }
   ],
   "source": [
    "A = np.array([[1,1,0], [2,0,1], [1,0,0]])\n",
    "print(A)\n",
    "# ключ\n"
   ]
  },
  {
   "cell_type": "markdown",
   "id": "ae8146a0",
   "metadata": {},
   "source": [
    "### Зашифровка"
   ]
  },
  {
   "cell_type": "code",
   "execution_count": 27,
   "id": "33e7f95e",
   "metadata": {},
   "outputs": [
    {
     "data": {
      "text/plain": [
       "array([36, 19,  9])"
      ]
     },
     "execution_count": 27,
     "metadata": {},
     "output_type": "execute_result"
    }
   ],
   "source": [
    "a1_enc = np.dot(A, a1)\n",
    "a1_enc\n",
    "# 3x3 3x1 => 3x1"
   ]
  },
  {
   "cell_type": "code",
   "execution_count": 28,
   "id": "5f64c983",
   "metadata": {},
   "outputs": [
    {
     "data": {
      "text/plain": [
       "array([40, 34, 13])"
      ]
     },
     "execution_count": 28,
     "metadata": {},
     "output_type": "execute_result"
    }
   ],
   "source": [
    "a2_enc = np.dot(A, a2)\n",
    "a2_enc"
   ]
  },
  {
   "cell_type": "code",
   "execution_count": 29,
   "id": "d5aee350",
   "metadata": {},
   "outputs": [
    {
     "data": {
      "text/plain": [
       "array([23, 15,  5])"
      ]
     },
     "execution_count": 29,
     "metadata": {},
     "output_type": "execute_result"
    }
   ],
   "source": [
    "a3_enc = np.dot(A, a3)\n",
    "a3_enc\n"
   ]
  },
  {
   "cell_type": "code",
   "execution_count": 30,
   "id": "21e769de",
   "metadata": {},
   "outputs": [
    {
     "name": "stdout",
     "output_type": "stream",
     "text": [
      "[36 19  9 40 34 13 23 15  5]\n"
     ]
    }
   ],
   "source": [
    "message_encrypted = np.concatenate([a1_enc, a2_enc, a3_enc])\n",
    "print(message_encrypted)\n",
    "# зашифрованное сообщение"
   ]
  },
  {
   "cell_type": "code",
   "execution_count": 15,
   "id": "428171fe",
   "metadata": {},
   "outputs": [
    {
     "name": "stdout",
     "output_type": "stream",
     "text": [
      "[[-0.  0.  1.]\n",
      " [ 1.  0. -1.]\n",
      " [ 0.  1. -2.]]\n"
     ]
    }
   ],
   "source": [
    "# inv - inverse - обратная\n",
    "from scipy.linalg import inv\n",
    "A_inv = inv(A)\n",
    "print(A_inv)\n",
    "# A -> A_inv\n",
    "# A_inv -> A\n"
   ]
  },
  {
   "cell_type": "code",
   "execution_count": 32,
   "id": "ddb478cf",
   "metadata": {},
   "outputs": [
    {
     "name": "stdout",
     "output_type": "stream",
     "text": [
      "[36 19  9]\n",
      "[ 9. 27.  1.]\n"
     ]
    }
   ],
   "source": [
    "# разбили на 3 элемента\n",
    "b = np.split(message_encrypted, 3)\n",
    "print(b[0])\n",
    "# с помощью матричного умножения расшифровываем\n",
    "b1 = np.dot(A_inv, b[0])\n",
    "print(b1)\n"
   ]
  },
  {
   "cell_type": "code",
   "execution_count": 33,
   "id": "d104e419",
   "metadata": {},
   "outputs": [
    {
     "name": "stdout",
     "output_type": "stream",
     "text": [
      "[40 34 13]\n",
      "[13. 27.  8.]\n"
     ]
    }
   ],
   "source": [
    "print(b[1])\n",
    "b2 = np.dot(A_inv, b[1])\n",
    "print(b2)"
   ]
  },
  {
   "cell_type": "code",
   "execution_count": 34,
   "id": "883f3bc8",
   "metadata": {},
   "outputs": [
    {
     "name": "stdout",
     "output_type": "stream",
     "text": [
      "[23 15  5]\n",
      "[ 5. 18.  5.]\n"
     ]
    }
   ],
   "source": [
    "print(b[2])\n",
    "b3 = np.dot(A_inv, b[2])\n",
    "print(b3)"
   ]
  },
  {
   "cell_type": "code",
   "execution_count": 36,
   "id": "2926e0ae",
   "metadata": {},
   "outputs": [
    {
     "name": "stdout",
     "output_type": "stream",
     "text": [
      "[ 9. 27.  1. 13. 27.  8.  5. 18.  5.]\n"
     ]
    }
   ],
   "source": [
    "message_decrypted = np.concatenate([b1, b2, b3])\n",
    "print(message_decrypted)\n"
   ]
  },
  {
   "cell_type": "markdown",
   "id": "7e8a2398",
   "metadata": {},
   "source": [
    "### Практическая работа "
   ]
  },
  {
   "cell_type": "code",
   "execution_count": 6,
   "id": "5f1e1b39",
   "metadata": {},
   "outputs": [
    {
     "name": "stdout",
     "output_type": "stream",
     "text": [
      "3\n",
      "False\n"
     ]
    }
   ],
   "source": [
    "#1\n",
    "import random as rand\n",
    "n=int(input())\n",
    "test_arr=np.array([i for i in range(1, n+1)])\n",
    "arr=np.array([rand.randint(1, n) for i in range(n)])\n",
    "result = np.in1d(test_arr, arr).all()\n",
    "print(result)"
   ]
  },
  {
   "cell_type": "code",
   "execution_count": 135,
   "id": "6436fb40",
   "metadata": {},
   "outputs": [
    {
     "name": "stdout",
     "output_type": "stream",
     "text": [
      "[[ 9 25]\n",
      " [96 98]\n",
      " [74 66]]\n",
      "[96]\n"
     ]
    }
   ],
   "source": [
    "#3\n",
    "def happyNumber(m, n):\n",
    "    arr=np.array([[rand.randint(1,100) for i in range(n)] for i in range(m)])\n",
    "    happyNumbers=[]\n",
    "    check=True\n",
    "    for i in range(arr.shape[0]):\n",
    "        theSmallestNumberInTheRow=min(arr[i])\n",
    "        check=True\n",
    "        for j in range(arr.shape[0]):\n",
    "            if(theSmallestNumberInTheRow<arr[j,0]):\n",
    "                check=False       \n",
    "        if(check==True):\n",
    "            happyNumbers.append(theSmallestNumberInTheRow)\n",
    "    \n",
    "    print(arr)       \n",
    "    return happyNumbers\n",
    "    \n",
    "\n",
    "print(happyNumber(3,2))\n"
   ]
  },
  {
   "cell_type": "code",
   "execution_count": 4,
   "id": "fd749537",
   "metadata": {},
   "outputs": [
    {
     "name": "stdout",
     "output_type": "stream",
     "text": [
      "['p', 'r', 'o', 'f', ' ', 'i', 's', ' ', 'b', 'o', 'r', 'i', 'n', 'g']\n"
     ]
    }
   ],
   "source": [
    "#5\n",
    "#Используйте следующую матрицу B чтобы зашифровать сообщение “PROF IS BORING”\n",
    "letters = 'abcdefghijklmnopqrstuvwxyz '\n",
    "numbers = np.arange(1, len(letters)+1)\n",
    "text='prof is boring'\n",
    "\n",
    "def letter_to_number(text, letters=letters, numbers=numbers):\n",
    "    list1 = []\n",
    "    for i in text:\n",
    "        ind = letters.find(i)\n",
    "        list1.append(numbers[ind])\n",
    "    return list1\n",
    "\n",
    "numArray=letter_to_number(text)\n",
    "\n",
    "def number_to_text(num_array, letters, numbers):\n",
    "    list1 = []\n",
    "    for i in num_array:\n",
    "        ind = numbers[i-1]\n",
    "        list1.append(letters[ind-1])\n",
    "    return list1\n",
    "\n",
    "print(number_to_text(numArray, letters, numbers))\n",
    "\n",
    "A = np.array([[2,3,2], [1,4,2], [5,2,3]])\n",
    "\n",
    "\n"
   ]
  },
  {
   "cell_type": "code",
   "execution_count": 9,
   "id": "61989d13",
   "metadata": {},
   "outputs": [
    {
     "name": "stdout",
     "output_type": "stream",
     "text": [
      "[78 21 54 15 19]\n",
      "15\n",
      "78\n",
      "187\n",
      "1\n",
      "24.630062931304092\n"
     ]
    }
   ],
   "source": [
    "#ДЗ\n",
    "\n",
    "#1\n",
    "arr=np.array([rand.randint(1, 100) for i in range(5)])\n",
    "print(arr.min())\n",
    "print(arr.max())\n",
    "print(arr.sum())\n",
    "print(arr.ndim)\n",
    "print(arr.std())\n"
   ]
  },
  {
   "cell_type": "code",
   "execution_count": 18,
   "id": "999d89e6",
   "metadata": {},
   "outputs": [
    {
     "name": "stdout",
     "output_type": "stream",
     "text": [
      "[ 9. 27. 12. 15. 22.  5. 27. 25. 15. 21.  0.  0.]\n"
     ]
    }
   ],
   "source": [
    "#2\n",
    "message = 'i love you'\n",
    "numbers = np.arange(1, len(letters)+1)\n",
    "numArray=letter_to_number(message)\n",
    "\n",
    "\n",
    "a1 = np.array([9, 27, 12])\n",
    "a2 = np.array([15, 22, 5])\n",
    "a3 = np.array([27, 25, 15])\n",
    "a4=np.array([21, 0, 0])\n",
    "\n",
    "A = np.array([[1,1,0], [2,0,1], [1,0,0]])\n",
    "\n",
    "a1_enc = np.dot(A, a1)\n",
    "a2_enc = np.dot(A, a2)\n",
    "a3_enc = np.dot(A, a3)\n",
    "a4_enc = np.dot(A, a4)\n",
    "\n",
    "message_encrypted = np.concatenate([a1_enc, a2_enc, a3_enc, a4_enc])\n",
    "\n",
    "\n",
    "A_inv = inv(A)\n",
    "\n",
    "b = np.split(message_encrypted, 4)\n",
    "b1 = np.dot(A_inv, b[0])\n",
    "b2 = np.dot(A_inv, b[1])\n",
    "b3 = np.dot(A_inv, b[2])\n",
    "b4=np.dot(A_inv, b[3])\n",
    "\n",
    "message_decrypted = np.concatenate([b1, b2, b3, b4])\n",
    "print(message_decrypted)\n",
    "\n",
    "\n"
   ]
  },
  {
   "cell_type": "code",
   "execution_count": null,
   "id": "31139195",
   "metadata": {},
   "outputs": [],
   "source": []
  },
  {
   "cell_type": "code",
   "execution_count": null,
   "id": "b97a0ecb",
   "metadata": {},
   "outputs": [],
   "source": []
  },
  {
   "cell_type": "code",
   "execution_count": null,
   "id": "1f980ce3",
   "metadata": {},
   "outputs": [],
   "source": []
  },
  {
   "cell_type": "code",
   "execution_count": null,
   "id": "bf239b6b",
   "metadata": {},
   "outputs": [],
   "source": []
  }
 ],
 "metadata": {
  "kernelspec": {
   "display_name": "Python 3 (ipykernel)",
   "language": "python",
   "name": "python3"
  },
  "language_info": {
   "codemirror_mode": {
    "name": "ipython",
    "version": 3
   },
   "file_extension": ".py",
   "mimetype": "text/x-python",
   "name": "python",
   "nbconvert_exporter": "python",
   "pygments_lexer": "ipython3",
   "version": "3.9.7"
  }
 },
 "nbformat": 4,
 "nbformat_minor": 5
}
