{
 "cells": [
  {
   "cell_type": "markdown",
   "id": "8d0f7d7c",
   "metadata": {},
   "source": [
    "### Arithmetic functions¶"
   ]
  },
  {
   "cell_type": "code",
   "execution_count": 11,
   "id": "48b31d0c",
   "metadata": {},
   "outputs": [
    {
     "name": "stdout",
     "output_type": "stream",
     "text": [
      "[1 1 1 2 1]\n",
      "[7 7 5 7 8]\n",
      "[8 8 6 9 9]\n",
      "[6 6 4 5 7]\n",
      "[ 0  7 25 14  8]\n",
      "[7 7 5 7 8]\n"
     ]
    },
    {
     "name": "stderr",
     "output_type": "stream",
     "text": [
      "C:\\Users\\77761\\AppData\\Local\\Temp/ipykernel_21472/2971232215.py:23: RuntimeWarning: divide by zero encountered in true_divide\n",
      "  np.divide(a, c)\n"
     ]
    },
    {
     "data": {
      "text/plain": [
       "True"
      ]
     },
     "execution_count": 11,
     "metadata": {},
     "output_type": "execute_result"
    }
   ],
   "source": [
    "import numpy as np\n",
    "import matplotlib.pyplot as plt\n",
    "\n",
    "a = np.array([np.random.randint(1,10) for i in range(5)])\n",
    "b = np.array([np.random.randint(1,10) for i in range(5)])\n",
    "print(b)\n",
    "print(a)\n",
    "\n",
    "# array addition\n",
    "print(np.add(a, b))\n",
    "\n",
    "# subtracting array elements\n",
    "print(np.subtract(a, b))\n",
    "\n",
    "c = np.array([0, 1, 5, 2, 1])\n",
    "\n",
    "# multiplying array elements\n",
    "print(np.multiply(a, c))\n",
    "\n",
    "print(a)\n",
    "\n",
    "# dividing array elements\n",
    "np.divide(a, c)\n",
    "\n",
    "import math\n",
    "\n",
    "math.sin(2)\n",
    "\n",
    "np.sin(a)\n",
    "type(a)\n",
    "\n",
    "np.sin([1,2,3])\n",
    "np.add([1,2], [3, 7])\n",
    "\n",
    "True == 1\n",
    "\n",
    "False == 0\n",
    "\n"
   ]
  },
  {
   "cell_type": "markdown",
   "id": "7fbcd77c",
   "metadata": {},
   "source": [
    "### Logic functions"
   ]
  },
  {
   "cell_type": "code",
   "execution_count": 2,
   "id": "71ea3c44",
   "metadata": {},
   "outputs": [
    {
     "name": "stdout",
     "output_type": "stream",
     "text": [
      "[7 6 6 5 4]\n",
      "[6 3 8 2 7]\n",
      "[ True  True False  True False]\n",
      "[False False  True False  True]\n",
      "[False  True  True]\n",
      "[False False False]\n"
     ]
    },
    {
     "data": {
      "text/plain": [
       "array([False,  True,  True])"
      ]
     },
     "execution_count": 2,
     "metadata": {},
     "output_type": "execute_result"
    }
   ],
   "source": [
    "print(a)\n",
    "print(b)\n",
    "\n",
    "\n",
    "print(np.greater(a, b))\n",
    "a[np.greater(a,b)]\n",
    "\n",
    "print(np.less(a, b))\n",
    "\n",
    "a[~np.less(a,b)]\n",
    "\n",
    "~np.less(a,b) == np.greater(a,b)\n",
    "\n",
    "\n",
    "e = np.array([1,2,3])\n",
    "f = np.array([1,5,5])\n",
    "\n",
    "print(np.less(e, f))\n",
    "\n",
    "print(np.greater(e, f))\n",
    "\n",
    "~np.less(e,f) == np.greater(e,f)"
   ]
  },
  {
   "cell_type": "markdown",
   "id": "12fa81e4",
   "metadata": {},
   "source": [
    "### Exponential functions"
   ]
  },
  {
   "cell_type": "code",
   "execution_count": 3,
   "id": "48c0a520",
   "metadata": {},
   "outputs": [
    {
     "name": "stdout",
     "output_type": "stream",
     "text": [
      "[7 6 6 5 4]\n",
      "[0.84509804 0.77815125 0.77815125 0.69897    0.60205999]\n",
      "[2.30242172 2.15522886 2.15522886 1.99323532 1.81144733]\n"
     ]
    }
   ],
   "source": [
    "print(a)\n",
    "print(np.log10(a))\n",
    "np.square(a)\n",
    "result = np.power(a, 3/7)\n",
    "print(result)\n"
   ]
  },
  {
   "cell_type": "code",
   "execution_count": 4,
   "id": "56df4af3",
   "metadata": {},
   "outputs": [
    {
     "data": {
      "text/plain": [
       "array([2., 2., 2., 1., 1.])"
      ]
     },
     "execution_count": 4,
     "metadata": {},
     "output_type": "execute_result"
    }
   ],
   "source": [
    "np.trunc(result)"
   ]
  },
  {
   "cell_type": "code",
   "execution_count": 5,
   "id": "e5a23dbc",
   "metadata": {},
   "outputs": [
    {
     "data": {
      "text/plain": [
       "array([2.3 , 2.16, 2.16, 1.99, 1.81])"
      ]
     },
     "execution_count": 5,
     "metadata": {},
     "output_type": "execute_result"
    }
   ],
   "source": [
    "np.round(result, 2)"
   ]
  },
  {
   "cell_type": "code",
   "execution_count": 6,
   "id": "45ef7a1b",
   "metadata": {},
   "outputs": [
    {
     "data": {
      "text/plain": [
       "array([2., 2., 2., 1., 1.])"
      ]
     },
     "execution_count": 6,
     "metadata": {},
     "output_type": "execute_result"
    }
   ],
   "source": [
    "np.floor(result)"
   ]
  },
  {
   "cell_type": "code",
   "execution_count": 7,
   "id": "7e56ce50",
   "metadata": {},
   "outputs": [
    {
     "data": {
      "text/plain": [
       "array([3., 3., 3., 2., 2.])"
      ]
     },
     "execution_count": 7,
     "metadata": {},
     "output_type": "execute_result"
    }
   ],
   "source": [
    "np.ceil(result)"
   ]
  },
  {
   "cell_type": "code",
   "execution_count": 8,
   "id": "81e66876",
   "metadata": {},
   "outputs": [
    {
     "name": "stdout",
     "output_type": "stream",
     "text": [
      "[-0. -3.  4.]\n"
     ]
    }
   ],
   "source": [
    "r = np.array([-0.123, -3.21, 4.103])\n",
    "\n",
    "print(np.trunc(r))"
   ]
  },
  {
   "cell_type": "code",
   "execution_count": 9,
   "id": "2e6cb79b",
   "metadata": {},
   "outputs": [
    {
     "name": "stdout",
     "output_type": "stream",
     "text": [
      "[-1. -4.  4.]\n"
     ]
    }
   ],
   "source": [
    "print(np.floor(r))"
   ]
  },
  {
   "cell_type": "markdown",
   "id": "b0604cdb",
   "metadata": {},
   "source": [
    "### Universal functions with matrices and vectors"
   ]
  },
  {
   "cell_type": "code",
   "execution_count": 10,
   "id": "508dfb35",
   "metadata": {},
   "outputs": [
    {
     "name": "stdout",
     "output_type": "stream",
     "text": [
      "[[2 5 5]\n",
      " [3 2 5]\n",
      " [4 5 1]]\n"
     ]
    }
   ],
   "source": [
    "data = np.array([[np.random.randint(1,10) for i in range(3)] for i in range(3)])\n",
    "print(data)"
   ]
  },
  {
   "cell_type": "code",
   "execution_count": 11,
   "id": "a87d51f6",
   "metadata": {},
   "outputs": [
    {
     "name": "stdout",
     "output_type": "stream",
     "text": [
      "[1 2 3]\n"
     ]
    }
   ],
   "source": [
    "print(e)"
   ]
  },
  {
   "cell_type": "code",
   "execution_count": 12,
   "id": "76fd7770",
   "metadata": {},
   "outputs": [
    {
     "name": "stdout",
     "output_type": "stream",
     "text": [
      "[[3 7 8]\n",
      " [4 4 8]\n",
      " [5 7 4]]\n"
     ]
    }
   ],
   "source": [
    "print(np.add(data, e))"
   ]
  },
  {
   "cell_type": "code",
   "execution_count": 13,
   "id": "30dd44c4",
   "metadata": {},
   "outputs": [
    {
     "name": "stdout",
     "output_type": "stream",
     "text": [
      "[[1 2 3]\n",
      " [0 1 1]]\n"
     ]
    }
   ],
   "source": [
    "x = np.array([[1,2,3], [0,1,1]])\n",
    "print(x)"
   ]
  },
  {
   "cell_type": "markdown",
   "id": "26818fa5",
   "metadata": {},
   "source": [
    "### Statistics"
   ]
  },
  {
   "cell_type": "code",
   "execution_count": 14,
   "id": "20576b67",
   "metadata": {},
   "outputs": [
    {
     "name": "stdout",
     "output_type": "stream",
     "text": [
      "[[2 5 5]\n",
      " [3 2 5]\n",
      " [4 5 1]]\n"
     ]
    }
   ],
   "source": [
    "print(data)"
   ]
  },
  {
   "cell_type": "code",
   "execution_count": 15,
   "id": "b29ae0b0",
   "metadata": {},
   "outputs": [
    {
     "data": {
      "text/plain": [
       "3.56"
      ]
     },
     "execution_count": 15,
     "metadata": {},
     "output_type": "execute_result"
    }
   ],
   "source": [
    "# mean\n",
    "round(np.mean(data), 2)"
   ]
  },
  {
   "cell_type": "code",
   "execution_count": 16,
   "id": "e70d9999",
   "metadata": {},
   "outputs": [
    {
     "data": {
      "text/plain": [
       "5"
      ]
     },
     "execution_count": 16,
     "metadata": {},
     "output_type": "execute_result"
    }
   ],
   "source": [
    "np.max(data)"
   ]
  },
  {
   "cell_type": "code",
   "execution_count": 17,
   "id": "1cd6ba27",
   "metadata": {},
   "outputs": [
    {
     "data": {
      "text/plain": [
       "1"
      ]
     },
     "execution_count": 17,
     "metadata": {},
     "output_type": "execute_result"
    }
   ],
   "source": [
    "np.min(data)"
   ]
  },
  {
   "cell_type": "code",
   "execution_count": 18,
   "id": "923e9cab",
   "metadata": {},
   "outputs": [
    {
     "data": {
      "text/plain": [
       "4.0"
      ]
     },
     "execution_count": 18,
     "metadata": {},
     "output_type": "execute_result"
    }
   ],
   "source": [
    "np.median(data)"
   ]
  },
  {
   "cell_type": "code",
   "execution_count": 19,
   "id": "4cb08b52",
   "metadata": {},
   "outputs": [
    {
     "ename": "AttributeError",
     "evalue": "module 'scipy' has no attribute 'stats'",
     "output_type": "error",
     "traceback": [
      "\u001b[1;31m---------------------------------------------------------------------------\u001b[0m",
      "\u001b[1;31mAttributeError\u001b[0m                            Traceback (most recent call last)",
      "\u001b[1;32m~\\AppData\\Local\\Temp/ipykernel_7308/3468734669.py\u001b[0m in \u001b[0;36m<module>\u001b[1;34m\u001b[0m\n\u001b[0;32m      2\u001b[0m \u001b[1;32mimport\u001b[0m \u001b[0mscipy\u001b[0m\u001b[1;33m\u001b[0m\u001b[1;33m\u001b[0m\u001b[0m\n\u001b[0;32m      3\u001b[0m \u001b[0mdata\u001b[0m \u001b[1;33m=\u001b[0m \u001b[0mdata\u001b[0m\u001b[1;33m.\u001b[0m\u001b[0mreshape\u001b[0m\u001b[1;33m(\u001b[0m\u001b[1;36m9\u001b[0m\u001b[1;33m)\u001b[0m\u001b[1;33m\u001b[0m\u001b[1;33m\u001b[0m\u001b[0m\n\u001b[1;32m----> 4\u001b[1;33m \u001b[0mscipy\u001b[0m\u001b[1;33m.\u001b[0m\u001b[0mstats\u001b[0m\u001b[1;33m.\u001b[0m\u001b[0mmode\u001b[0m\u001b[1;33m(\u001b[0m\u001b[0mdata\u001b[0m\u001b[1;33m)\u001b[0m\u001b[1;33m\u001b[0m\u001b[1;33m\u001b[0m\u001b[0m\n\u001b[0m",
      "\u001b[1;31mAttributeError\u001b[0m: module 'scipy' has no attribute 'stats'"
     ]
    }
   ],
   "source": [
    "\n",
    "import scipy\n",
    "data = data.reshape(9)\n",
    "scipy.stats.mode(data)"
   ]
  },
  {
   "cell_type": "code",
   "execution_count": 20,
   "id": "0709ba3c",
   "metadata": {},
   "outputs": [
    {
     "name": "stdout",
     "output_type": "stream",
     "text": [
      "[2 5 5 3 2 5 4 5 1]\n"
     ]
    }
   ],
   "source": [
    "print(data)"
   ]
  },
  {
   "cell_type": "code",
   "execution_count": 21,
   "id": "68ef4aee",
   "metadata": {},
   "outputs": [
    {
     "data": {
      "text/plain": [
       "32"
      ]
     },
     "execution_count": 21,
     "metadata": {},
     "output_type": "execute_result"
    }
   ],
   "source": [
    "\n",
    "np.sum(data)"
   ]
  },
  {
   "cell_type": "code",
   "execution_count": 22,
   "id": "d76a3a86",
   "metadata": {},
   "outputs": [
    {
     "data": {
      "text/plain": [
       "2.2469135802469133"
      ]
     },
     "execution_count": 22,
     "metadata": {},
     "output_type": "execute_result"
    }
   ],
   "source": [
    "\n",
    "np.var(data)"
   ]
  },
  {
   "cell_type": "code",
   "execution_count": 23,
   "id": "ee4eb01b",
   "metadata": {},
   "outputs": [
    {
     "data": {
      "text/plain": [
       "1.4989708403591155"
      ]
     },
     "execution_count": 23,
     "metadata": {},
     "output_type": "execute_result"
    }
   ],
   "source": [
    "\n",
    "np.std(data)"
   ]
  },
  {
   "cell_type": "code",
   "execution_count": 24,
   "id": "175f1849",
   "metadata": {},
   "outputs": [
    {
     "name": "stdout",
     "output_type": "stream",
     "text": [
      "[[2 5 5]\n",
      " [3 2 5]\n",
      " [4 5 1]]\n"
     ]
    }
   ],
   "source": [
    "data = data.reshape((3,3))\n",
    "print(data)"
   ]
  },
  {
   "cell_type": "code",
   "execution_count": 25,
   "id": "4fabe7c9",
   "metadata": {},
   "outputs": [
    {
     "data": {
      "text/plain": [
       "3.5555555555555554"
      ]
     },
     "execution_count": 25,
     "metadata": {},
     "output_type": "execute_result"
    }
   ],
   "source": [
    "\n",
    "data.mean()"
   ]
  },
  {
   "cell_type": "code",
   "execution_count": 26,
   "id": "84ebbba2",
   "metadata": {},
   "outputs": [
    {
     "data": {
      "text/plain": [
       "array([3.        , 4.        , 3.66666667])"
      ]
     },
     "execution_count": 26,
     "metadata": {},
     "output_type": "execute_result"
    }
   ],
   "source": [
    "# mean for all columns\n",
    "data.mean(axis=0)"
   ]
  },
  {
   "cell_type": "code",
   "execution_count": 27,
   "id": "f2490320",
   "metadata": {},
   "outputs": [
    {
     "name": "stdout",
     "output_type": "stream",
     "text": [
      "[4.         3.33333333 3.33333333]\n"
     ]
    }
   ],
   "source": [
    "# mean for all rows\n",
    "print(data.mean(axis=1))"
   ]
  },
  {
   "cell_type": "code",
   "execution_count": 28,
   "id": "ea8311f8",
   "metadata": {},
   "outputs": [
    {
     "data": {
      "text/plain": [
       "3.5555555555555554"
      ]
     },
     "execution_count": 28,
     "metadata": {},
     "output_type": "execute_result"
    }
   ],
   "source": [
    "np.mean(data)"
   ]
  },
  {
   "cell_type": "code",
   "execution_count": 29,
   "id": "10646641",
   "metadata": {},
   "outputs": [
    {
     "data": {
      "image/png": "[encoded data removed]",
      "text/plain": [
       "<Figure size 432x288 with 1 Axes>"
      ]
     },
     "metadata": {
      "needs_background": "light"
     },
     "output_type": "display_data"
    }
   ],
   "source": [
    "import matplotlib.pyplot as plt\n",
    "\n",
    "plt.boxplot(data)\n",
    "plt.show()\n",
    "\n",
    "# orange - median\n",
    "# upper, lower - max, min"
   ]
  },
  {
   "cell_type": "code",
   "execution_count": 30,
   "id": "5c7a67f8",
   "metadata": {},
   "outputs": [
    {
     "name": "stdout",
     "output_type": "stream",
     "text": [
      "[2 5 5 3 2 5 4 5 1]\n"
     ]
    }
   ],
   "source": [
    "data = data.reshape(9)\n",
    "print(data)"
   ]
  },
  {
   "cell_type": "code",
   "execution_count": 31,
   "id": "b072b640",
   "metadata": {},
   "outputs": [
    {
     "data": {
      "image/png": "[encoded data removed]",
      "text/plain": [
       "<Figure size 432x288 with 1 Axes>"
      ]
     },
     "metadata": {
      "needs_background": "light"
     },
     "output_type": "display_data"
    }
   ],
   "source": [
    "plt.boxplot(data)\n",
    "plt.show()"
   ]
  },
  {
   "cell_type": "code",
   "execution_count": 47,
   "id": "bcb4709d",
   "metadata": {},
   "outputs": [
    {
     "name": "stdout",
     "output_type": "stream",
     "text": [
      "2\n"
     ]
    }
   ],
   "source": [
    "#ДЗ\n",
    "\n",
    "def function(arr):\n",
    "    counter=0\n",
    "    keeper=0\n",
    "    for i in range(len(arr)-1):\n",
    "        if(arr[i]+1==arr[i+1]):\n",
    "            counter+=1\n",
    "        if(counter>keeper):   \n",
    "            keeper=counter\n",
    "        if(arr[i]+1 != arr[i+1]):\n",
    "            counter=0\n",
    "    return keeper+1\n",
    "\n",
    "\n",
    "print(function([0,4,5,1]))\n",
    "            "
   ]
  },
  {
   "cell_type": "code",
   "execution_count": 27,
   "id": "a0c0e3cc",
   "metadata": {},
   "outputs": [
    {
     "name": "stdout",
     "output_type": "stream",
     "text": [
      "0\n"
     ]
    }
   ],
   "source": [
    "# Practical work\n",
    "#1\n",
    "def func(arr):\n",
    "    arr=np.array(arr)\n",
    "    return len(arr[len(str(arr))%2==0])\n",
    "    \n",
    "print(func([12,345,2,6,7896, 44, 45, 34524, 2124]))\n",
    "        \n"
   ]
  },
  {
   "cell_type": "markdown",
   "id": "15d36cc6",
   "metadata": {},
   "source": [
    "\n"
   ]
  },
  {
   "cell_type": "code",
   "execution_count": null,
   "id": "188ec839",
   "metadata": {},
   "outputs": [],
   "source": []
  },
  {
   "cell_type": "code",
   "execution_count": null,
   "id": "2301db86",
   "metadata": {},
   "outputs": [],
   "source": []
  }
 ],
 "metadata": {
  "kernelspec": {
   "display_name": "Python 3 (ipykernel)",
   "language": "python",
   "name": "python3"
  },
  "language_info": {
   "codemirror_mode": {
    "name": "ipython",
    "version": 3
   },
   "file_extension": ".py",
   "mimetype": "text/x-python",
   "name": "python",
   "nbconvert_exporter": "python",
   "pygments_lexer": "ipython3",
   "version": "3.9.7"
  }
 },
 "nbformat": 4,
 "nbformat_minor": 5
}
