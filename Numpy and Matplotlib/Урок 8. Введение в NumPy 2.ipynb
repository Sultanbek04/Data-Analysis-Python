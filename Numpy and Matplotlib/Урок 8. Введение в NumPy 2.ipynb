{
 "cells": [
  {
   "cell_type": "markdown",
   "id": "f810496e",
   "metadata": {},
   "source": [
    "### Маскирование и булевые операции"
   ]
  },
  {
   "cell_type": "code",
   "execution_count": 1,
   "id": "2e171ef3",
   "metadata": {},
   "outputs": [
    {
     "name": "stdout",
     "output_type": "stream",
     "text": [
      "[0.16339933 0.24853185 0.88350542 0.39512653 0.27551514 0.98907531\n",
      " 0.31017006 0.8189136  0.10820783 0.10279997]\n"
     ]
    }
   ],
   "source": [
    "import numpy as np\n",
    "\n",
    "x = np.random.rand(10)\n",
    "print(x)"
   ]
  },
  {
   "cell_type": "code",
   "execution_count": 11,
   "id": "b23e662a",
   "metadata": {},
   "outputs": [
    {
     "data": {
      "text/plain": [
       "array([False, False, False,  True, False,  True,  True,  True,  True,\n",
       "        True])"
      ]
     },
     "execution_count": 11,
     "metadata": {},
     "output_type": "execute_result"
    }
   ],
   "source": [
    "# булевые операции (логические операции)\n",
    "x > 0.5"
   ]
  },
  {
   "cell_type": "code",
   "execution_count": 12,
   "id": "180a3712",
   "metadata": {},
   "outputs": [
    {
     "data": {
      "text/plain": [
       "0.5571173485632726"
      ]
     },
     "execution_count": 12,
     "metadata": {},
     "output_type": "execute_result"
    }
   ],
   "source": [
    "x.mean()"
   ]
  },
  {
   "cell_type": "code",
   "execution_count": 13,
   "id": "43e7dc5b",
   "metadata": {},
   "outputs": [
    {
     "data": {
      "text/plain": [
       "array([0.86177407, 0.65177809, 0.77202475, 0.85794082, 0.59029321,\n",
       "       0.76590412])"
      ]
     },
     "execution_count": 13,
     "metadata": {},
     "output_type": "execute_result"
    }
   ],
   "source": [
    "# фильтрация\n",
    "x[x > 0.5]"
   ]
  },
  {
   "cell_type": "code",
   "execution_count": 14,
   "id": "3ebdd65c",
   "metadata": {},
   "outputs": [
    {
     "data": {
      "text/plain": [
       "array([0.5       , 0.5       , 0.5       , 0.86177407, 0.5       ,\n",
       "       0.65177809, 0.77202475, 0.85794082, 0.59029321, 0.76590412])"
      ]
     },
     "execution_count": 14,
     "metadata": {},
     "output_type": "execute_result"
    }
   ],
   "source": [
    "# маскирование\n",
    "x[x < 0.5] = 0.5\n",
    "x"
   ]
  },
  {
   "cell_type": "code",
   "execution_count": 17,
   "id": "0968a0c0",
   "metadata": {},
   "outputs": [
    {
     "name": "stdout",
     "output_type": "stream",
     "text": [
      "[0.82747211 0.61015749 0.1517501  0.65938944 0.90646299 0.81052509\n",
      " 0.33436329 0.09309347 0.60506755 0.33590571]\n"
     ]
    }
   ],
   "source": [
    "x = np.random.rand(10)\n",
    "print(x)"
   ]
  },
  {
   "cell_type": "code",
   "execution_count": 20,
   "id": "51728bd0",
   "metadata": {},
   "outputs": [
    {
     "name": "stdout",
     "output_type": "stream",
     "text": [
      "[6 6 3 4 2]\n"
     ]
    }
   ],
   "source": [
    "a = np.array([np.random.randint(1,10) for i in range(5)])\n",
    "print(a)"
   ]
  },
  {
   "cell_type": "code",
   "execution_count": 25,
   "id": "d8399ce6",
   "metadata": {},
   "outputs": [
    {
     "data": {
      "text/plain": [
       "array(['больше или равен 3', 'больше или равен 3', 'больше или равен 3',\n",
       "       'больше или равен 3', 'меньше 3'], dtype='<U18')"
      ]
     },
     "execution_count": 25,
     "metadata": {},
     "output_type": "execute_result"
    }
   ],
   "source": [
    "np.where(a<3, 'меньше 3', 'больше или равен 3')"
   ]
  },
  {
   "cell_type": "code",
   "execution_count": 5,
   "id": "f8a422ba",
   "metadata": {},
   "outputs": [
    {
     "name": "stdout",
     "output_type": "stream",
     "text": [
      "[[2 5]\n",
      " [3 7]]\n",
      "[[2 3]\n",
      " [5 7]]\n"
     ]
    }
   ],
   "source": [
    "#1\n",
    "def TransportVersion(arr):\n",
    "    return arr.T\n",
    "\n",
    "x2 = np.array([[2,5],[3,7]])\n",
    "print(x2)\n",
    "print(TransportVersion(x2))\n",
    "\n"
   ]
  },
  {
   "cell_type": "code",
   "execution_count": 23,
   "id": "2565ade0",
   "metadata": {},
   "outputs": [
    {
     "name": "stdout",
     "output_type": "stream",
     "text": [
      "0.4502401914222497\n",
      "4.502401914222497\n"
     ]
    }
   ],
   "source": [
    "#2\n",
    "x = np.random.rand(30)\n",
    "randomList=[]\n",
    "\n",
    "for i in range(10):\n",
    "    randomList.append(np.random.choice(x)) \n",
    "x2=np.array(randomList)\n",
    "print(x2.mean())\n",
    "print(x2.sum())"
   ]
  },
  {
   "cell_type": "code",
   "execution_count": 16,
   "id": "42b8fe30",
   "metadata": {},
   "outputs": [
    {
     "name": "stdout",
     "output_type": "stream",
     "text": [
      "[49, 3, 59, 81, 93, 48, 29, 73, 75, 77]\n",
      "6\n"
     ]
    },
    {
     "data": {
      "text/plain": [
       "array(['взрослый человек', 'ребенок', 'взрослый человек', 'пожилой',\n",
       "       'пожилой', 'взрослый человек', 'взрослый человек', 'пожилой',\n",
       "       'пожилой', 'пожилой'], dtype='<U16')"
      ]
     },
     "execution_count": 16,
     "metadata": {},
     "output_type": "execute_result"
    }
   ],
   "source": [
    "#3\n",
    "randomList=[]\n",
    "for i in range(10):\n",
    "    randomList.append(np.random.randint(0,100)) \n",
    "print(randomList)\n",
    "x=np.array(randomList)\n",
    "print(len(x[x > 50]))\n",
    "np.where(x<18, 'ребенок', np.where(x<60, 'взрослый человек', 'пожилой'))\n"
   ]
  },
  {
   "cell_type": "code",
   "execution_count": 35,
   "id": "d9c44c3b",
   "metadata": {},
   "outputs": [
    {
     "name": "stdout",
     "output_type": "stream",
     "text": [
      "3\n",
      "[[8 6 5]\n",
      " [1 2 4]\n",
      " [7 2 7]]\n",
      "31\n"
     ]
    }
   ],
   "source": [
    "# ДЗ\n",
    "#1\n",
    "n=int(input())\n",
    "\n",
    "arr=np.array([[np.random.randint(1,10) for i in range(n)] for i in range(n)])\n",
    "print(arr)\n",
    "a=sum(arr[i][n-i-1] for i in range(n))\n",
    "my_sum = [(arr[i][i]) for i in range(arr.shape[0])]\n",
    "print(a+sum(my_sum))\n"
   ]
  },
  {
   "cell_type": "code",
   "execution_count": null,
   "id": "be6055cb",
   "metadata": {},
   "outputs": [],
   "source": []
  },
  {
   "cell_type": "code",
   "execution_count": null,
   "id": "53e58405",
   "metadata": {},
   "outputs": [],
   "source": []
  }
 ],
 "metadata": {
  "kernelspec": {
   "display_name": "Python 3 (ipykernel)",
   "language": "python",
   "name": "python3"
  },
  "language_info": {
   "codemirror_mode": {
    "name": "ipython",
    "version": 3
   },
   "file_extension": ".py",
   "mimetype": "text/x-python",
   "name": "python",
   "nbconvert_exporter": "python",
   "pygments_lexer": "ipython3",
   "version": "3.9.7"
  }
 },
 "nbformat": 4,
 "nbformat_minor": 5
}
