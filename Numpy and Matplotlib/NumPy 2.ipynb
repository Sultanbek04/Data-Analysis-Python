{
 "cells": [
  {
   "cell_type": "markdown",
   "id": "9e8e33cb",
   "metadata": {},
   "source": [
    "### Masking and Boolean Operations"
   ]
  },
  {
   "cell_type": "code",
   "execution_count": 2,
   "id": "2e171ef3",
   "metadata": {},
   "outputs": [
    {
     "name": "stdout",
     "output_type": "stream",
     "text": [
      "[0.03440185 0.97683568 0.70163932 0.73941315 0.7368392  0.07552595\n",
      " 0.4347054  0.24832353 0.08794376 0.00560737]\n"
     ]
    }
   ],
   "source": [
    "import numpy as np\n",
    "\n",
    "x = np.random.rand(10)\n",
    "print(x)"
   ]
  },
  {
   "cell_type": "code",
   "execution_count": 11,
   "id": "b23e662a",
   "metadata": {},
   "outputs": [
    {
     "data": {
      "text/plain": [
       "array([False, False, False,  True, False,  True,  True,  True,  True,\n",
       "        True])"
      ]
     },
     "execution_count": 11,
     "metadata": {},
     "output_type": "execute_result"
    }
   ],
   "source": [
    "# boolean operation \n",
    "x > 0.5"
   ]
  },
  {
   "cell_type": "code",
   "execution_count": 12,
   "id": "180a3712",
   "metadata": {},
   "outputs": [
    {
     "data": {
      "text/plain": [
       "0.5571173485632726"
      ]
     },
     "execution_count": 12,
     "metadata": {},
     "output_type": "execute_result"
    }
   ],
   "source": [
    "x.mean()"
   ]
  },
  {
   "cell_type": "code",
   "execution_count": 13,
   "id": "43e7dc5b",
   "metadata": {},
   "outputs": [
    {
     "data": {
      "text/plain": [
       "array([0.86177407, 0.65177809, 0.77202475, 0.85794082, 0.59029321,\n",
       "       0.76590412])"
      ]
     },
     "execution_count": 13,
     "metadata": {},
     "output_type": "execute_result"
    }
   ],
   "source": [
    "# фильтрация\n",
    "x[x > 0.5]"
   ]
  },
  {
   "cell_type": "code",
   "execution_count": 14,
   "id": "3ebdd65c",
   "metadata": {},
   "outputs": [
    {
     "data": {
      "text/plain": [
       "array([0.5       , 0.5       , 0.5       , 0.86177407, 0.5       ,\n",
       "       0.65177809, 0.77202475, 0.85794082, 0.59029321, 0.76590412])"
      ]
     },
     "execution_count": 14,
     "metadata": {},
     "output_type": "execute_result"
    }
   ],
   "source": [
    "# маскирование\n",
    "x[x < 0.5] = 0.5\n",
    "x"
   ]
  },
  {
   "cell_type": "code",
   "execution_count": 17,
   "id": "0968a0c0",
   "metadata": {},
   "outputs": [
    {
     "name": "stdout",
     "output_type": "stream",
     "text": [
      "[0.82747211 0.61015749 0.1517501  0.65938944 0.90646299 0.81052509\n",
      " 0.33436329 0.09309347 0.60506755 0.33590571]\n"
     ]
    }
   ],
   "source": [
    "x = np.random.rand(10)\n",
    "print(x)"
   ]
  },
  {
   "cell_type": "code",
   "execution_count": 4,
   "id": "51728bd0",
   "metadata": {},
   "outputs": [
    {
     "name": "stdout",
     "output_type": "stream",
     "text": [
      "[7 4 9 4 1]\n"
     ]
    }
   ],
   "source": [
    "a = np.array([np.random.randint(1,10) for i in range(5)])\n",
    "print(a)"
   ]
  },
  {
   "cell_type": "code",
   "execution_count": 5,
   "id": "d8399ce6",
   "metadata": {},
   "outputs": [
    {
     "data": {
      "text/plain": [
       "array(['bigger or eqaul to 3', 'bigger or eqaul to 3',\n",
       "       'bigger or eqaul to 3', 'bigger or eqaul to 3', 'less than 3'],\n",
       "      dtype='<U20')"
      ]
     },
     "execution_count": 5,
     "metadata": {},
     "output_type": "execute_result"
    }
   ],
   "source": [
    "np.where(a<3, 'less than 3', 'bigger or eqaul to 3')"
   ]
  },
  {
   "cell_type": "code",
   "execution_count": 5,
   "id": "f8a422ba",
   "metadata": {},
   "outputs": [
    {
     "name": "stdout",
     "output_type": "stream",
     "text": [
      "[[2 5]\n",
      " [3 7]]\n",
      "[[2 3]\n",
      " [5 7]]\n"
     ]
    }
   ],
   "source": [
    "#1\n",
    "def TransportVersion(arr):\n",
    "    return arr.T\n",
    "\n",
    "x2 = np.array([[2,5],[3,7]])\n",
    "print(x2)\n",
    "print(TransportVersion(x2))\n",
    "\n"
   ]
  },
  {
   "cell_type": "code",
   "execution_count": 23,
   "id": "2565ade0",
   "metadata": {},
   "outputs": [
    {
     "name": "stdout",
     "output_type": "stream",
     "text": [
      "0.4502401914222497\n",
      "4.502401914222497\n"
     ]
    }
   ],
   "source": [
    "#2\n",
    "x = np.random.rand(30)\n",
    "randomList=[]\n",
    "\n",
    "for i in range(10):\n",
    "    randomList.append(np.random.choice(x)) \n",
    "x2=np.array(randomList)\n",
    "print(x2.mean())\n",
    "print(x2.sum())"
   ]
  },
  {
   "cell_type": "code",
   "execution_count": 6,
   "id": "42b8fe30",
   "metadata": {},
   "outputs": [
    {
     "name": "stdout",
     "output_type": "stream",
     "text": [
      "[60, 72, 35, 46, 74, 19, 81, 47, 79, 32]\n",
      "5\n"
     ]
    },
    {
     "data": {
      "text/plain": [
       "array(['elder', 'elder', 'adult', 'adult', 'elder', 'adult', 'elder',\n",
       "       'adult', 'elder', 'adult'], dtype='<U5')"
      ]
     },
     "execution_count": 6,
     "metadata": {},
     "output_type": "execute_result"
    }
   ],
   "source": [
    "#3\n",
    "randomList=[]\n",
    "for i in range(10):\n",
    "    randomList.append(np.random.randint(0,100)) \n",
    "print(randomList)\n",
    "x=np.array(randomList)\n",
    "print(len(x[x > 50]))\n",
    "np.where(x<18, 'baby', np.where(x<60, 'adult', 'elder'))\n"
   ]
  },
  {
   "cell_type": "code",
   "execution_count": 35,
   "id": "d9c44c3b",
   "metadata": {},
   "outputs": [
    {
     "name": "stdout",
     "output_type": "stream",
     "text": [
      "3\n",
      "[[8 6 5]\n",
      " [1 2 4]\n",
      " [7 2 7]]\n",
      "31\n"
     ]
    }
   ],
   "source": [
    "# ДЗ\n",
    "#1\n",
    "n=int(input())\n",
    "\n",
    "arr=np.array([[np.random.randint(1,10) for i in range(n)] for i in range(n)])\n",
    "print(arr)\n",
    "a=sum(arr[i][n-i-1] for i in range(n))\n",
    "my_sum = [(arr[i][i]) for i in range(arr.shape[0])]\n",
    "print(a+sum(my_sum))\n"
   ]
  },
  {
   "cell_type": "code",
   "execution_count": null,
   "id": "be6055cb",
   "metadata": {},
   "outputs": [],
   "source": []
  },
  {
   "cell_type": "code",
   "execution_count": null,
   "id": "53e58405",
   "metadata": {},
   "outputs": [],
   "source": []
  }
 ],
 "metadata": {
  "kernelspec": {
   "display_name": "Python 3 (ipykernel)",
   "language": "python",
   "name": "python3"
  },
  "language_info": {
   "codemirror_mode": {
    "name": "ipython",
    "version": 3
   },
   "file_extension": ".py",
   "mimetype": "text/x-python",
   "name": "python",
   "nbconvert_exporter": "python",
   "pygments_lexer": "ipython3",
   "version": "3.9.7"
  }
 },
 "nbformat": 4,
 "nbformat_minor": 5
}
